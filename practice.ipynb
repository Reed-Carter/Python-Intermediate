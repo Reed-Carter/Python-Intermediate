{
 "cells": [
  {
   "cell_type": "markdown",
   "metadata": {},
   "source": [
    "A function called fourth_place() that takes a list as an argument:\n",
    "\n",
    "- it should return the fourth item in the list\n",
    "\n",
    "- use try/except to catch IndexErrors when a list shorter than four items is passed in"
   ]
  },
  {
   "cell_type": "code",
   "execution_count": 20,
   "metadata": {},
   "outputs": [
    {
     "name": "stdout",
     "output_type": "stream",
     "text": [
      "list index out of range\n"
     ]
    }
   ],
   "source": [
    "\n",
    "mountains_In_Sitka = [\"Verstovia\", \"Bear\", \"South Sister\", \"Middle Sister\", \"North Sister\", \"Harbor\"]\n",
    "short_list_of_mountains = [\"Verstovia\", \"Bear\", \"South Sister\"]\n",
    "\n",
    "def fourth_place(list_one: str ) -> str:\n",
    "    \"\"\"This is a function that returns the fourth item in a list.\n",
    "\n",
    "    stuff:\n",
    "        list_one (str): a list with an index of 3 or greater\n",
    "\n",
    "    Returns:\n",
    "        str: the fourth item in the list or an error message for an index error if the list is too short\n",
    "    \"\"\"\n",
    "    try:\n",
    "        return list_one[3]\n",
    "    except IndexError as E:\n",
    "        print(E)\n",
    "\n",
    "fourth_place(short_list_of_mountains)"
   ]
  },
  {
   "cell_type": "markdown",
   "metadata": {},
   "source": [
    "A lambda function that takes the two integers as arguments, and subtracts the second number from the first\n",
    "\n",
    "- assign a variable called subtracter_lambda to the lambda function\n",
    "\n",
    "- below the variable assignment, call subtracter_lambda"
   ]
  },
  {
   "cell_type": "code",
   "execution_count": 25,
   "metadata": {},
   "outputs": [
    {
     "name": "stdout",
     "output_type": "stream",
     "text": [
      "2\n"
     ]
    }
   ],
   "source": [
    "subtracter_lambda = (lambda a, b: b - a)\n",
    "print(subtracter_lambda(2, 4))"
   ]
  },
  {
   "cell_type": "markdown",
   "metadata": {},
   "source": [
    "A class called Shoe that has the following attributes:\n",
    "\n",
    "- US_size: an integer\n",
    "\n",
    "- color: a string\n",
    "\n",
    "- smelly: a Boolean\n",
    "\n",
    "- Shoe should also have a method called euro_size() that converts US_size to European sizing by adding 33, and prints a string saying Euro size\n",
    "\n",
    "Below the class definition, create two instances of Shoe\n",
    "\n",
    "- call the euro_size() method on each instance"
   ]
  },
  {
   "cell_type": "code",
   "execution_count": 38,
   "metadata": {},
   "outputs": [
    {
     "name": "stdout",
     "output_type": "stream",
     "text": [
      "42\n",
      "44\n"
     ]
    }
   ],
   "source": [
    "class Shoe:\n",
    "    \"\"\"The shoe object contains the size color and smell of a shoe\n",
    "\n",
    "    Parameters\n",
    "    ----------\n",
    "    US_size: int\n",
    "        The US size of a shoe\n",
    "    color: str\n",
    "        The color of the shoe\n",
    "    smelly: bool\n",
    "        If the shoe is smelly or not\n",
    "    \"\"\"\n",
    "    def __init__(self, US_size: int, color: str, smelly: bool) -> str:\n",
    "        self.US_size = US_size\n",
    "        self.color = color\n",
    "        self.smelly = smelly\n",
    "\n",
    "    def euro_size(self):\n",
    "        \"\"\"The function converts the US shoe size to a European shoe size\n",
    "\n",
    "        returns\n",
    "        -------\n",
    "        European shoe size: str\n",
    "        \"\"\"\n",
    "        print(str(self.US_size + 33))\n",
    "\n",
    "Altra = Shoe(9,\"blue\", smelly=True)\n",
    "Altra.euro_size()\n",
    "Addidas = Shoe(11, \"white\", smelly=False)\n",
    "Addidas.euro_size()\n"
   ]
  },
  {
   "cell_type": "markdown",
   "metadata": {},
   "source": [
    "Write a function called galaxy(). galaxy() should take:\n",
    "\n",
    "- a positional argument of the name of the galaxy\n",
    "\n",
    "- a varying number of arguments for objects found in the galaxy, like asteroids and dust\n",
    "\n",
    "- a keyword argument of pluto_is_planet, which defaults to a Boolean of your choice\n",
    "\n",
    "- a varying number of keyword arguments for planets and their color\n",
    "\n",
    "galaxy() should print a paragraph (a string or series of strings) of space facts. It should include:\n",
    "\n",
    "- The name of the galaxy\n",
    "\n",
    "- What the galaxy contains, if the user passed in any arguments\n",
    "\n",
    "- The number of planets passed in a keyword arguments, with the names of the planets and their colors, if the user passed in any keyword arguments\n",
    "\n",
    "Below the function definition, call galaxy(). You're welcome to make up facts.\n",
    "\n",
    "Include type hints and docstrings in each function."
   ]
  },
  {
   "cell_type": "code",
   "execution_count": 65,
   "metadata": {},
   "outputs": [
    {
     "name": "stdout",
     "output_type": "stream",
     "text": [
      "The Milky Way galaxy contains a lot of stuff including 2 planets and pluto! Here are the other planets in the galaxy and their color: Mercury is the color slate gray, and Mars is the color red. The Milky Way galaxy also contains asteroids, dust, and a solar system. \n"
     ]
    }
   ],
   "source": [
    "# def galaxy_stuff(*stuff):\n",
    "#     for arg in stuff:\n",
    "#         return arg\n",
    "\n",
    "#def planet_color(**planets):\n",
    "#  for k, v in planets.items():\n",
    "#      return k, v\n",
    "\n",
    "# def pluto(pluto_is_a_planet):\n",
    "#     if pluto_is_a_planet == True:\n",
    "#         print(f\"pluto is a planet\")\n",
    "#     else:\n",
    "#         print(f\"pluto is not a planet\")\n",
    "\n",
    "from functools import reduce\n",
    "\n",
    "\n",
    "def galaxy(name: str, *stuff: str, pluto_is_a_planet: True, **planets: str) -> str:\n",
    "    \"\"\"This is a function that returns a paragraph of galaxy facts.\n",
    "\n",
    "    Args:\n",
    "        name (str): name of the galaxy\n",
    "        *stuff(str): Various items found in the galaxy\n",
    "        pluto_is_a_planet (True): if pluto is a planet\n",
    "        **planets(str): a dictionary where keys = the planet name and values = the planet color\n",
    "\n",
    "    Returns:\n",
    "        str: paragraph of galaxy facts\n",
    "    \"\"\"\n",
    "    galaxy_facts = \"\"\n",
    "\n",
    "    solar_stuff = \"\"\n",
    "    for i in (stuff):\n",
    "        if i == stuff[-1]:\n",
    "            solar_stuff += f\"and a {i}. \"\n",
    "        else:\n",
    "            solar_stuff += f\"{i}, \"\n",
    "\n",
    "    what_is_pluto = \"\"\n",
    "    if pluto_is_a_planet == True:\n",
    "        what_is_pluto = \"and pluto!\"\n",
    "    else:\n",
    "       what_is_pluto = \"not including pluto!\"\n",
    "    \n",
    "    planet_string = \"\"\n",
    "    for k, v in planets.items():\n",
    "        if k == list(planets.keys())[-1]:\n",
    "            planet_string += f\" and {k} is the color {v}.\"\n",
    "        else:\n",
    "            planet_string += f\" {k} is the color {v},\"\n",
    "\n",
    "    galaxy_facts += f\"The {name} galaxy contains a lot of stuff including {len(planets)} planets {what_is_pluto} Here are the other planets in the galaxy and their color:{planet_string} The {name} galaxy also contains {solar_stuff}\"\n",
    "    print(galaxy_facts)\n",
    "\n",
    "galaxy(\"Milky Way\", \"asteroids\", \"dust\", \"solar system\", pluto_is_a_planet=True, Mercury = \"slate gray\", Mars = \"red\")"
   ]
  }
 ],
 "metadata": {
  "kernelspec": {
   "display_name": "Python 3.10.6 64-bit",
   "language": "python",
   "name": "python3"
  },
  "language_info": {
   "codemirror_mode": {
    "name": "ipython",
    "version": 3
   },
   "file_extension": ".py",
   "mimetype": "text/x-python",
   "name": "python",
   "nbconvert_exporter": "python",
   "pygments_lexer": "ipython3",
   "version": "3.10.6"
  },
  "orig_nbformat": 4,
  "vscode": {
   "interpreter": {
    "hash": "916dbcbb3f70747c44a77c7bcd40155683ae19c65e1c03b4aa3499c5328201f1"
   }
  }
 },
 "nbformat": 4,
 "nbformat_minor": 2
}
