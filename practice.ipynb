{
 "cells": [
  {
   "cell_type": "markdown",
   "metadata": {},
   "source": [
    "A function called fourth_place() that takes a list as an argument:\n",
    "\n",
    "- it should return the fourth item in the list\n",
    "\n",
    "- use try/except to catch IndexErrors when a list shorter than four items is passed in"
   ]
  },
  {
   "cell_type": "code",
   "execution_count": 20,
   "metadata": {},
   "outputs": [
    {
     "name": "stdout",
     "output_type": "stream",
     "text": [
      "list index out of range\n"
     ]
    }
   ],
   "source": [
    "\n",
    "mountains_In_Sitka = [\"Verstovia\", \"Bear\", \"South Sister\", \"Middle Sister\", \"North Sister\", \"Harbor\"]\n",
    "short_list_of_mountains = [\"Verstovia\", \"Bear\", \"South Sister\"]\n",
    "\n",
    "def fourth_place(list_one: str ) -> str:\n",
    "    \"\"\"This is a function that returns the fourth item in a list.\n",
    "\n",
    "    Args:\n",
    "        list_one (str): a list with an index of 3 or greater\n",
    "\n",
    "    Returns:\n",
    "        str: the fourth item in the list or an error message for an index error if the list is too short\n",
    "    \"\"\"\n",
    "    try:\n",
    "        return list_one[3]\n",
    "    except IndexError as E:\n",
    "        print(E)\n",
    "\n",
    "fourth_place(short_list_of_mountains)"
   ]
  },
  {
   "cell_type": "code",
   "execution_count": null,
   "metadata": {},
   "outputs": [],
   "source": []
  }
 ],
 "metadata": {
  "kernelspec": {
   "display_name": "Python 3.10.6 64-bit",
   "language": "python",
   "name": "python3"
  },
  "language_info": {
   "codemirror_mode": {
    "name": "ipython",
    "version": 3
   },
   "file_extension": ".py",
   "mimetype": "text/x-python",
   "name": "python",
   "nbconvert_exporter": "python",
   "pygments_lexer": "ipython3",
   "version": "3.10.6"
  },
  "orig_nbformat": 4,
  "vscode": {
   "interpreter": {
    "hash": "916dbcbb3f70747c44a77c7bcd40155683ae19c65e1c03b4aa3499c5328201f1"
   }
  }
 },
 "nbformat": 4,
 "nbformat_minor": 2
}
